{
 "cells": [
  {
   "cell_type": "markdown",
   "id": "6f1b660c",
   "metadata": {},
   "source": [
    "Датасет - https://www.kaggle.com/datasets/rkiattisak/student-performance-in-mathematics\n",
    "\n",
    "Предметная область - успеваемость старшеклассников\n",
    "\n",
    "Источник данных - генератор датасетов\n",
    "\n",
    "Тип данных - имитационные\n",
    "\n",
    "Основная задача анализа - выявление зависимостей между различными атрибутами и успеваемостью\n",
    "\n",
    "Атрибуты датасета:\n",
    "\n",
    "• Gender: Пол студента (мужчина/женщина)\n",
    "\n",
    "• Race: Расовое или этническое происхождение студента\n",
    "\n",
    "• Education: Самый высокий уровень образования, достигнутый родителями или опекунами учащегося\n",
    "\n",
    "• Lunch: Получает ли студент бесплатный обед или обед по сниженной цене\n",
    "\n",
    "• Preparation: Прошел ли студент курс подготовки к тестированию\n",
    "\n",
    "• Math score: Оценка учащегося по стандартизированному тесту по математике\n",
    "\n",
    "• Reading score: Оценка учащегося по стандартизированному тесту на чтение\n",
    "\n",
    "• Writing score: Оценка студента по стандартизированному письменному тесту"
   ]
  },
  {
   "cell_type": "code",
   "execution_count": 20,
   "id": "8f47f158",
   "metadata": {},
   "outputs": [],
   "source": [
    "import pandas as pd\n",
    "import matplotlib.pyplot as plt\n",
    "import numpy as np\n",
    "import seaborn as sns\n",
    "\n",
    "names = ['Gender', 'Race', 'Education', 'Lunch', 'Preparation', 'Math score', 'Reading score', 'Writing score']\n",
    "\n",
    "csv = pd.read_csv('exams.csv', sep=',')\n",
    "csv.columns = names\n",
    "df = pd.DataFrame(csv)\n",
    "\n",
    "# Конвертация параметров в числовые\n",
    "df['Gender'] = df['Gender'].replace({'male': 0, 'female': 1})\n",
    "df['Race'] = df['Race'].replace({'group A': 0, 'group B': 1, 'group C': 2, 'group D': 3, 'group E': 4})\n",
    "df['Education'] = df['Education'].replace({'high school': 0, 'some high school': 0, 'some college': 1,\n",
    "                                           \"master's degree\": 2,\"bachelor's degree\": 3, \"associate's degree\": 4})\n",
    "df['Lunch'] = df['Lunch'].replace({'standard': 0, 'free/reduced': 1})\n",
    "df['Preparation'] = df['Preparation'].replace({'none': 0, 'completed': 1})\n",
    "\n",
    "df['Average score'] = (df['Math score'] + df['Reading score'] + df['Writing score']) / 3"
   ]
  },
  {
   "cell_type": "markdown",
   "id": "88c658be",
   "metadata": {},
   "source": [
    "Во второй работе был проведен анализ датасета, выбросы и пропущенные значения отсутствуют\n",
    "\n",
    "По аналогии со второй работой добавим атрибут Average score, который выступит в роли целевого класса"
   ]
  },
  {
   "cell_type": "code",
   "execution_count": 21,
   "id": "4b4e5304",
   "metadata": {},
   "outputs": [
    {
     "data": {
      "text/html": [
       "<div>\n",
       "<style scoped>\n",
       "    .dataframe tbody tr th:only-of-type {\n",
       "        vertical-align: middle;\n",
       "    }\n",
       "\n",
       "    .dataframe tbody tr th {\n",
       "        vertical-align: top;\n",
       "    }\n",
       "\n",
       "    .dataframe thead th {\n",
       "        text-align: right;\n",
       "    }\n",
       "</style>\n",
       "<table border=\"1\" class=\"dataframe\">\n",
       "  <thead>\n",
       "    <tr style=\"text-align: right;\">\n",
       "      <th></th>\n",
       "      <th>Gender</th>\n",
       "      <th>Race</th>\n",
       "      <th>Education</th>\n",
       "      <th>Lunch</th>\n",
       "      <th>Preparation</th>\n",
       "      <th>Math score</th>\n",
       "      <th>Reading score</th>\n",
       "      <th>Writing score</th>\n",
       "      <th>Average score</th>\n",
       "    </tr>\n",
       "  </thead>\n",
       "  <tbody>\n",
       "    <tr>\n",
       "      <th>768</th>\n",
       "      <td>1</td>\n",
       "      <td>2</td>\n",
       "      <td>0</td>\n",
       "      <td>0</td>\n",
       "      <td>0</td>\n",
       "      <td>70</td>\n",
       "      <td>75</td>\n",
       "      <td>78</td>\n",
       "      <td>1</td>\n",
       "    </tr>\n",
       "    <tr>\n",
       "      <th>334</th>\n",
       "      <td>0</td>\n",
       "      <td>3</td>\n",
       "      <td>1</td>\n",
       "      <td>1</td>\n",
       "      <td>0</td>\n",
       "      <td>59</td>\n",
       "      <td>45</td>\n",
       "      <td>44</td>\n",
       "      <td>0</td>\n",
       "    </tr>\n",
       "    <tr>\n",
       "      <th>452</th>\n",
       "      <td>1</td>\n",
       "      <td>2</td>\n",
       "      <td>0</td>\n",
       "      <td>1</td>\n",
       "      <td>0</td>\n",
       "      <td>38</td>\n",
       "      <td>45</td>\n",
       "      <td>44</td>\n",
       "      <td>0</td>\n",
       "    </tr>\n",
       "    <tr>\n",
       "      <th>827</th>\n",
       "      <td>0</td>\n",
       "      <td>3</td>\n",
       "      <td>1</td>\n",
       "      <td>0</td>\n",
       "      <td>0</td>\n",
       "      <td>79</td>\n",
       "      <td>56</td>\n",
       "      <td>68</td>\n",
       "      <td>0</td>\n",
       "    </tr>\n",
       "    <tr>\n",
       "      <th>272</th>\n",
       "      <td>1</td>\n",
       "      <td>4</td>\n",
       "      <td>0</td>\n",
       "      <td>1</td>\n",
       "      <td>0</td>\n",
       "      <td>74</td>\n",
       "      <td>88</td>\n",
       "      <td>75</td>\n",
       "      <td>1</td>\n",
       "    </tr>\n",
       "  </tbody>\n",
       "</table>\n",
       "</div>"
      ],
      "text/plain": [
       "     Gender  Race  Education  Lunch  Preparation  Math score  Reading score  \\\n",
       "768       1     2          0      0            0          70             75   \n",
       "334       0     3          1      1            0          59             45   \n",
       "452       1     2          0      1            0          38             45   \n",
       "827       0     3          1      0            0          79             56   \n",
       "272       1     4          0      1            0          74             88   \n",
       "\n",
       "     Writing score  Average score  \n",
       "768             78              1  \n",
       "334             44              0  \n",
       "452             44              0  \n",
       "827             68              0  \n",
       "272             75              1  "
      ]
     },
     "execution_count": 21,
     "metadata": {},
     "output_type": "execute_result"
    }
   ],
   "source": [
    "# Разделим средний балл по трем экзаменам на удовлетворительные и неудовлетворительные на основании среднего значения атрибута\n",
    "df['Average score'] = (df['Average score'] >= df['Average score'].mean()).astype(int)\n",
    "df.sample(5)"
   ]
  },
  {
   "cell_type": "code",
   "execution_count": 22,
   "id": "0c7e049d",
   "metadata": {},
   "outputs": [],
   "source": [
    "y = df[\"Average score\"]\n",
    "df.drop([\"Average score\"], axis=1, inplace=True)"
   ]
  },
  {
   "cell_type": "code",
   "execution_count": 23,
   "id": "aa0514ae",
   "metadata": {},
   "outputs": [],
   "source": [
    "from sklearn.model_selection import StratifiedKFold, train_test_split\n",
    "\n",
    "# Выделим 70% датасета под обучение и 30% оставим для оценки качества модели\n",
    "X_train, X_holdout, y_train, y_holdout = train_test_split(df.values, y, test_size=0.3, random_state=17)"
   ]
  },
  {
   "cell_type": "code",
   "execution_count": 24,
   "id": "6cce0cfe",
   "metadata": {},
   "outputs": [
    {
     "data": {
      "text/html": [
       "<style>#sk-container-id-3 {color: black;background-color: white;}#sk-container-id-3 pre{padding: 0;}#sk-container-id-3 div.sk-toggleable {background-color: white;}#sk-container-id-3 label.sk-toggleable__label {cursor: pointer;display: block;width: 100%;margin-bottom: 0;padding: 0.3em;box-sizing: border-box;text-align: center;}#sk-container-id-3 label.sk-toggleable__label-arrow:before {content: \"▸\";float: left;margin-right: 0.25em;color: #696969;}#sk-container-id-3 label.sk-toggleable__label-arrow:hover:before {color: black;}#sk-container-id-3 div.sk-estimator:hover label.sk-toggleable__label-arrow:before {color: black;}#sk-container-id-3 div.sk-toggleable__content {max-height: 0;max-width: 0;overflow: hidden;text-align: left;background-color: #f0f8ff;}#sk-container-id-3 div.sk-toggleable__content pre {margin: 0.2em;color: black;border-radius: 0.25em;background-color: #f0f8ff;}#sk-container-id-3 input.sk-toggleable__control:checked~div.sk-toggleable__content {max-height: 200px;max-width: 100%;overflow: auto;}#sk-container-id-3 input.sk-toggleable__control:checked~label.sk-toggleable__label-arrow:before {content: \"▾\";}#sk-container-id-3 div.sk-estimator input.sk-toggleable__control:checked~label.sk-toggleable__label {background-color: #d4ebff;}#sk-container-id-3 div.sk-label input.sk-toggleable__control:checked~label.sk-toggleable__label {background-color: #d4ebff;}#sk-container-id-3 input.sk-hidden--visually {border: 0;clip: rect(1px 1px 1px 1px);clip: rect(1px, 1px, 1px, 1px);height: 1px;margin: -1px;overflow: hidden;padding: 0;position: absolute;width: 1px;}#sk-container-id-3 div.sk-estimator {font-family: monospace;background-color: #f0f8ff;border: 1px dotted black;border-radius: 0.25em;box-sizing: border-box;margin-bottom: 0.5em;}#sk-container-id-3 div.sk-estimator:hover {background-color: #d4ebff;}#sk-container-id-3 div.sk-parallel-item::after {content: \"\";width: 100%;border-bottom: 1px solid gray;flex-grow: 1;}#sk-container-id-3 div.sk-label:hover label.sk-toggleable__label {background-color: #d4ebff;}#sk-container-id-3 div.sk-serial::before {content: \"\";position: absolute;border-left: 1px solid gray;box-sizing: border-box;top: 0;bottom: 0;left: 50%;z-index: 0;}#sk-container-id-3 div.sk-serial {display: flex;flex-direction: column;align-items: center;background-color: white;padding-right: 0.2em;padding-left: 0.2em;position: relative;}#sk-container-id-3 div.sk-item {position: relative;z-index: 1;}#sk-container-id-3 div.sk-parallel {display: flex;align-items: stretch;justify-content: center;background-color: white;position: relative;}#sk-container-id-3 div.sk-item::before, #sk-container-id-3 div.sk-parallel-item::before {content: \"\";position: absolute;border-left: 1px solid gray;box-sizing: border-box;top: 0;bottom: 0;left: 50%;z-index: -1;}#sk-container-id-3 div.sk-parallel-item {display: flex;flex-direction: column;z-index: 1;position: relative;background-color: white;}#sk-container-id-3 div.sk-parallel-item:first-child::after {align-self: flex-end;width: 50%;}#sk-container-id-3 div.sk-parallel-item:last-child::after {align-self: flex-start;width: 50%;}#sk-container-id-3 div.sk-parallel-item:only-child::after {width: 0;}#sk-container-id-3 div.sk-dashed-wrapped {border: 1px dashed gray;margin: 0 0.4em 0.5em 0.4em;box-sizing: border-box;padding-bottom: 0.4em;background-color: white;}#sk-container-id-3 div.sk-label label {font-family: monospace;font-weight: bold;display: inline-block;line-height: 1.2em;}#sk-container-id-3 div.sk-label-container {text-align: center;}#sk-container-id-3 div.sk-container {/* jupyter's `normalize.less` sets `[hidden] { display: none; }` but bootstrap.min.css set `[hidden] { display: none !important; }` so we also need the `!important` here to be able to override the default hidden behavior on the sphinx rendered scikit-learn.org. See: https://github.com/scikit-learn/scikit-learn/issues/21755 */display: inline-block !important;position: relative;}#sk-container-id-3 div.sk-text-repr-fallback {display: none;}</style><div id=\"sk-container-id-3\" class=\"sk-top-container\"><div class=\"sk-text-repr-fallback\"><pre>KNeighborsClassifier(n_neighbors=10)</pre><b>In a Jupyter environment, please rerun this cell to show the HTML representation or trust the notebook. <br />On GitHub, the HTML representation is unable to render, please try loading this page with nbviewer.org.</b></div><div class=\"sk-container\" hidden><div class=\"sk-item\"><div class=\"sk-estimator sk-toggleable\"><input class=\"sk-toggleable__control sk-hidden--visually\" id=\"sk-estimator-id-3\" type=\"checkbox\" checked><label for=\"sk-estimator-id-3\" class=\"sk-toggleable__label sk-toggleable__label-arrow\">KNeighborsClassifier</label><div class=\"sk-toggleable__content\"><pre>KNeighborsClassifier(n_neighbors=10)</pre></div></div></div></div></div>"
      ],
      "text/plain": [
       "KNeighborsClassifier(n_neighbors=10)"
      ]
     },
     "execution_count": 24,
     "metadata": {},
     "output_type": "execute_result"
    }
   ],
   "source": [
    "from sklearn.tree import DecisionTreeClassifier\n",
    "from sklearn.neighbors import KNeighborsClassifier\n",
    "\n",
    "# Обучим дерево решений и kNN\n",
    "tree = DecisionTreeClassifier(max_depth=5, random_state=17)\n",
    "knn = KNeighborsClassifier(n_neighbors=10)\n",
    "\n",
    "tree.fit(X_train, y_train)\n",
    "knn.fit(X_train, y_train)"
   ]
  },
  {
   "cell_type": "code",
   "execution_count": 25,
   "id": "9d52bf91",
   "metadata": {},
   "outputs": [
    {
     "name": "stdout",
     "output_type": "stream",
     "text": [
      "Fitting 5 folds for each of 150 candidates, totalling 750 fits\n",
      "Дерево решений\n",
      "Лучший набор параметров: {'max_depth': 4, 'max_features': 7}\n",
      "Доля правильных ответов: 0.9785714285714286\n"
     ]
    }
   ],
   "source": [
    "from sklearn.model_selection import GridSearchCV, cross_val_score\n",
    "\n",
    "# Найдем лучшие параметры для дерева решений\n",
    "tree_params = {\"max_depth\": range(1, 11), \"max_features\": range(4, 19)}\n",
    "tree_grid = GridSearchCV(tree, tree_params, cv=5, n_jobs=-1, verbose=True)\n",
    "tree_grid.fit(X_train, y_train)\n",
    "print(f\"Дерево решений\\nЛучший набор параметров: {tree_grid.best_params_}\\nДоля правильных ответов: {tree_grid.best_score_}\")"
   ]
  },
  {
   "cell_type": "code",
   "execution_count": 26,
   "id": "480f0e1d",
   "metadata": {},
   "outputs": [
    {
     "name": "stdout",
     "output_type": "stream",
     "text": [
      "Fitting 5 folds for each of 9 candidates, totalling 45 fits\n",
      "kNN\n",
      "Лучший набор параметров: {'knn__n_neighbors': 7}\n",
      "Доля правильных ответов: 0.9271428571428573\n"
     ]
    }
   ],
   "source": [
    "from sklearn.pipeline import Pipeline\n",
    "from sklearn.preprocessing import StandardScaler\n",
    "\n",
    "# Найдем лучшие параметры для kNN\n",
    "knn_pipe = Pipeline([(\"scaler\", StandardScaler()), (\"knn\", KNeighborsClassifier(n_jobs=-1))])\n",
    "knn_params = {\"knn__n_neighbors\": range(1, 10)}\n",
    "knn_grid = GridSearchCV(knn_pipe, knn_params, cv=5, n_jobs=-1, verbose=True)\n",
    "knn_grid.fit(X_train, y_train)\n",
    "print(f\"kNN\\nЛучший набор параметров: {knn_grid.best_params_}\\nДоля правильных ответов: {knn_grid.best_score_}\")"
   ]
  },
  {
   "cell_type": "code",
   "execution_count": 27,
   "id": "ea7c63ca",
   "metadata": {},
   "outputs": [
    {
     "name": "stdout",
     "output_type": "stream",
     "text": [
      "Дерево решений\n",
      "Accuracy: 0.97\n",
      "Presicion: 0.968944099378882\n",
      "Recall: 0.975\n",
      "F-measure: 0.9719626168224299\n",
      "ROC: 0.9696428571428571\n"
     ]
    }
   ],
   "source": [
    "from sklearn.metrics import accuracy_score, precision_score, recall_score, f1_score, roc_auc_score\n",
    "\n",
    "print(\"Дерево решений\")\n",
    "print(f'Accuracy: {accuracy_score(y_holdout, tree_grid.predict(X_holdout))}')\n",
    "print(f'Presicion: {precision_score(y_holdout, tree_grid.predict(X_holdout))}')\n",
    "print(f'Recall: {recall_score(y_holdout, tree_grid.predict(X_holdout))}')\n",
    "print(f'F-measure: {f1_score(y_holdout, tree_grid.predict(X_holdout))}')\n",
    "print(f'ROC: {roc_auc_score(y_holdout, tree_grid.predict(X_holdout))}')"
   ]
  },
  {
   "cell_type": "code",
   "execution_count": 28,
   "id": "8161788f",
   "metadata": {},
   "outputs": [
    {
     "name": "stdout",
     "output_type": "stream",
     "text": [
      "kNN\n",
      "Accuracy: 0.94\n",
      "Presicion: 0.9551282051282052\n",
      "Recall: 0.93125\n",
      "F-measure: 0.9430379746835443\n",
      "ROC: 0.9406249999999999\n"
     ]
    }
   ],
   "source": [
    "print(\"kNN\")\n",
    "print(f'Accuracy: {accuracy_score(y_holdout, knn_grid.predict(X_holdout))}')\n",
    "print(f'Presicion: {precision_score(y_holdout, knn_grid.predict(X_holdout))}')\n",
    "print(f'Recall: {recall_score(y_holdout, knn_grid.predict(X_holdout))}')\n",
    "print(f'F-measure: {f1_score(y_holdout, knn_grid.predict(X_holdout))}')\n",
    "print(f'ROC: {roc_auc_score(y_holdout, knn_grid.predict(X_holdout))}')"
   ]
  },
  {
   "cell_type": "markdown",
   "id": "7552f0f9",
   "metadata": {},
   "source": [
    "На данном датасете по всем параметрам лучше себя показало дерево решений\n",
    "\n",
    "\n",
    "Самая высокая разница в полноте (0.04)\n",
    "\n",
    "Меньше разница в доле правильных ответов (0.03), F-мере (0.03) и ROC (0.03)\n",
    "\n",
    "Самая маленькая разница в точности (0.01)"
   ]
  }
 ],
 "metadata": {
  "kernelspec": {
   "display_name": "Python 3 (ipykernel)",
   "language": "python",
   "name": "python3"
  },
  "language_info": {
   "codemirror_mode": {
    "name": "ipython",
    "version": 3
   },
   "file_extension": ".py",
   "mimetype": "text/x-python",
   "name": "python",
   "nbconvert_exporter": "python",
   "pygments_lexer": "ipython3",
   "version": "3.12.2"
  }
 },
 "nbformat": 4,
 "nbformat_minor": 5
}
